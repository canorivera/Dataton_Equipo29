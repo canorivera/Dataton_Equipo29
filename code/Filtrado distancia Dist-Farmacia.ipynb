{
 "cells": [
  {
   "cell_type": "code",
   "execution_count": null,
   "id": "0243f242",
   "metadata": {},
   "outputs": [],
   "source": []
  },
  {
   "cell_type": "code",
   "execution_count": 2,
   "id": "a70e8919",
   "metadata": {},
   "outputs": [
    {
     "name": "stderr",
     "output_type": "stream",
     "text": [
      "C:\\Users\\guguc\\AppData\\Local\\Temp\\ipykernel_29608\\3835445630.py:20: DtypeWarning: Columns (35) have mixed types. Specify dtype option on import or set low_memory=False.\n",
      "  farmacias = pd.read_csv(\"C:/Users/guguc/Documents/Dataton/farmacias.csv\", encoding='latin1')\n"
     ]
    },
    {
     "name": "stdout",
     "output_type": "stream",
     "text": [
      "El archivo 'Farmacias_filtradas.csv' ha sido generado con éxito.\n"
     ]
    }
   ],
   "source": [
    "import pandas as pd\n",
    "import numpy as np\n",
    "from math import radians, sin, cos, sqrt, atan2\n",
    "\n",
    "# Función para calcular la distancia usando la fórmula de Haversine entre dos matrices de coordenadas\n",
    "def haversine_vectorized(lat1, lon1, lat2, lon2):\n",
    "    R = 6371.0  # Radio de la Tierra en km\n",
    "    lat1, lon1, lat2, lon2 = map(np.radians, [lat1, lon1, lat2, lon2])\n",
    "    \n",
    "    dlat = lat2[:, np.newaxis] - lat1  # Diferencia de latitudes\n",
    "    dlon = lon2[:, np.newaxis] - lon1  # Diferencia de longitudes\n",
    "    \n",
    "    a = np.sin(dlat / 2.0)**2 + np.cos(lat1) * np.cos(lat2[:, np.newaxis]) * np.sin(dlon / 2.0)**2\n",
    "    c = 2 * np.arctan2(np.sqrt(a), np.sqrt(1 - a))\n",
    "    distance = R * c\n",
    "    return distance\n",
    "\n",
    "# Cargar los archivos CSV con la codificación 'latin1'\n",
    "distribuidoras = pd.read_csv(\"C:/Users/guguc/Documents/Dataton/Distribuidoras.csv\", encoding='latin1')\n",
    "farmacias = pd.read_csv(\"C:/Users/guguc/Documents/Dataton/farmacias.csv\", encoding='latin1')\n",
    "\n",
    "# Extraer latitudes y longitudes de las farmacias y distribuidoras\n",
    "lat_farmacias = farmacias['latitud'].values\n",
    "lon_farmacias = farmacias['longitud'].values\n",
    "lat_distribuidoras = distribuidoras['latitud'].values\n",
    "lon_distribuidoras = distribuidoras['longitud'].values\n",
    "\n",
    "# Calcular las distancias entre cada farmacia y todas las distribuidoras\n",
    "distancias = haversine_vectorized(lat_farmacias, lon_farmacias, lat_distribuidoras, lon_distribuidoras)\n",
    "\n",
    "# Filtrar las farmacias que estén a menos de 100 km de alguna distribuidora\n",
    "farmacias_cercanas = np.any(distancias <= 100, axis=0)  # Usar 'axis=0' para verificar por filas\n",
    "farmacias_filtradas = farmacias[farmacias_cercanas]\n",
    "\n",
    "# Guardar el resultado en un archivo CSV\n",
    "farmacias_filtradas.to_csv('Farmacias_filtradas.csv', index=False, encoding='utf-8')\n",
    "\n",
    "print(\"El archivo 'Farmacias_filtradas.csv' ha sido generado con éxito.\")\n"
   ]
  },
  {
   "cell_type": "code",
   "execution_count": 4,
   "id": "27e3d95d",
   "metadata": {},
   "outputs": [
    {
     "name": "stderr",
     "output_type": "stream",
     "text": [
      "C:\\Users\\guguc\\AppData\\Local\\Temp\\ipykernel_29608\\189814227.py:20: DtypeWarning: Columns (35) have mixed types. Specify dtype option on import or set low_memory=False.\n",
      "  farmacias = pd.read_csv(\"C:/Users/guguc/Documents/Dataton/farmacias.csv\", encoding='latin1')\n"
     ]
    },
    {
     "name": "stdout",
     "output_type": "stream",
     "text": [
      "El archivo 'Farmacias_filtradas.csv' ha sido generado con éxito.\n"
     ]
    }
   ],
   "source": [
    "import pandas as pd\n",
    "import numpy as np\n",
    "from math import radians, sin, cos, sqrt, atan2\n",
    "\n",
    "# Función para calcular la distancia usando la fórmula de Haversine entre dos matrices de coordenadas\n",
    "def haversine_vectorized(lat1, lon1, lat2, lon2):\n",
    "    R = 6371.0  # Radio de la Tierra en km\n",
    "    lat1, lon1, lat2, lon2 = map(np.radians, [lat1, lon1, lat2, lon2])\n",
    "    \n",
    "    dlat = lat2[:, np.newaxis] - lat1  # Diferencia de latitudes\n",
    "    dlon = lon2[:, np.newaxis] - lon1  # Diferencia de longitudes\n",
    "    \n",
    "    a = np.sin(dlat / 2.0)**2 + np.cos(lat1) * np.cos(lat2[:, np.newaxis]) * np.sin(dlon / 2.0)**2\n",
    "    c = 2 * np.arctan2(np.sqrt(a), np.sqrt(1 - a))\n",
    "    distance = R * c\n",
    "    return distance\n",
    "\n",
    "# Cargar los archivos CSV con la codificación 'latin1'\n",
    "distribuidoras = pd.read_csv(\"C:/Users/guguc/Documents/Dataton/Distribuidoras.csv\", encoding='latin1')\n",
    "farmacias = pd.read_csv(\"C:/Users/guguc/Documents/Dataton/farmacias.csv\", encoding='latin1')\n",
    "\n",
    "# Extraer latitudes y longitudes de las farmacias y distribuidoras\n",
    "lat_farmacias = farmacias['latitud'].values\n",
    "lon_farmacias = farmacias['longitud'].values\n",
    "lat_distribuidoras = distribuidoras['latitud'].values\n",
    "lon_distribuidoras = distribuidoras['longitud'].values\n",
    "\n",
    "# Calcular las distancias entre cada farmacia y todas las distribuidoras\n",
    "distancias = haversine_vectorized(lat_farmacias, lon_farmacias, lat_distribuidoras, lon_distribuidoras)\n",
    "\n",
    "# Filtrar las farmacias que estén a menos de 50 km de alguna distribuidora\n",
    "farmacias_cercanas = np.any(distancias <= 25, axis=0)  # Usar 'axis=0' para verificar por filas\n",
    "farmacias_filtradas = farmacias[farmacias_cercanas]\n",
    "\n",
    "# Guardar el resultado en un archivo CSV\n",
    "farmacias_filtradas.to_csv('Farmacias_filtradas25km.csv', index=False, encoding='utf-8')\n",
    "\n",
    "print(\"El archivo 'Farmacias_filtradas.csv' ha sido generado con éxito.\")"
   ]
  },
  {
   "cell_type": "code",
   "execution_count": 5,
   "id": "eee3c608",
   "metadata": {},
   "outputs": [
    {
     "name": "stderr",
     "output_type": "stream",
     "text": [
      "C:\\Users\\guguc\\AppData\\Local\\Temp\\ipykernel_29608\\1499994870.py:20: DtypeWarning: Columns (35) have mixed types. Specify dtype option on import or set low_memory=False.\n",
      "  farmacias = pd.read_csv(\"C:/Users/guguc/Documents/Dataton/farmacias.csv\", encoding='latin1')\n"
     ]
    },
    {
     "name": "stdout",
     "output_type": "stream",
     "text": [
      "El archivo 'Farmacias_filtradas_min_distribuidoras.csv' ha sido generado con éxito.\n"
     ]
    }
   ],
   "source": [
    "import pandas as pd\n",
    "import numpy as np\n",
    "from math import radians, sin, cos, sqrt, atan2\n",
    "\n",
    "# Función para calcular la distancia usando la fórmula de Haversine entre dos matrices de coordenadas\n",
    "def haversine_vectorized(lat1, lon1, lat2, lon2):\n",
    "    R = 6371.0  # Radio de la Tierra en km\n",
    "    lat1, lon1, lat2, lon2 = map(np.radians, [lat1, lon1, lat2, lon2])\n",
    "    \n",
    "    dlat = lat2[:, np.newaxis] - lat1  # Diferencia de latitudes\n",
    "    dlon = lon2[:, np.newaxis] - lon1  # Diferencia de longitudes\n",
    "    \n",
    "    a = np.sin(dlat / 2.0)**2 + np.cos(lat1) * np.cos(lat2[:, np.newaxis]) * np.sin(dlon / 2.0)**2\n",
    "    c = 2 * np.arctan2(np.sqrt(a), np.sqrt(1 - a))\n",
    "    distance = R * c\n",
    "    return distance\n",
    "\n",
    "# Cargar los archivos CSV con la codificación 'latin1'\n",
    "distribuidoras = pd.read_csv(\"C:/Users/guguc/Documents/Dataton/Distribuidoras.csv\", encoding='latin1')\n",
    "farmacias = pd.read_csv(\"C:/Users/guguc/Documents/Dataton/farmacias.csv\", encoding='latin1')\n",
    "\n",
    "# Extraer latitudes y longitudes de las farmacias y distribuidoras\n",
    "lat_farmacias = farmacias['latitud'].values\n",
    "lon_farmacias = farmacias['longitud'].values\n",
    "lat_distribuidoras = distribuidoras['latitud'].values\n",
    "lon_distribuidoras = distribuidoras['longitud'].values\n",
    "\n",
    "# Calcular las distancias entre cada farmacia y todas las distribuidoras\n",
    "distancias = haversine_vectorized(lat_farmacias, lon_farmacias, lat_distribuidoras, lon_distribuidoras)\n",
    "\n",
    "# Contar cuántas farmacias hay cerca de cada distribuidora (<= 100 km)\n",
    "farmacias_cercanas_por_distribuidora = np.sum(distancias <= 25, axis=1)\n",
    "\n",
    "# Identificar la mínima cantidad de farmacias cercanas\n",
    "min_farmacias_cercanas = np.min(farmacias_cercanas_por_distribuidora)\n",
    "\n",
    "# Filtrar las distribuidoras que tienen la mínima cantidad de farmacias cercanas\n",
    "distribuidoras_min_farmacias = np.where(farmacias_cercanas_por_distribuidora == min_farmacias_cercanas)[0]\n",
    "\n",
    "# Filtrar las farmacias que están a menos de 100 km de las distribuidoras seleccionadas\n",
    "farmacias_filtradas = []\n",
    "for idx in distribuidoras_min_farmacias:\n",
    "    distancias_cercanas = distancias[idx] <= 25\n",
    "    farmacias_filtradas.append(farmacias[distancias_cercanas])\n",
    "\n",
    "# Concatenar las farmacias filtradas en un solo DataFrame\n",
    "farmacias_filtradas_df = pd.concat(farmacias_filtradas)\n",
    "\n",
    "# Guardar el resultado en un archivo CSV\n",
    "farmacias_filtradas_df.to_csv('Farmacias_filtradas_min_distribuidoras.csv', index=False, encoding='utf-8')\n",
    "\n",
    "print(\"El archivo 'Farmacias_filtradas_min_distribuidoras.csv' ha sido generado con éxito.\")\n"
   ]
  },
  {
   "cell_type": "code",
   "execution_count": 6,
   "id": "efb6cf83",
   "metadata": {},
   "outputs": [
    {
     "name": "stderr",
     "output_type": "stream",
     "text": [
      "C:\\Users\\guguc\\AppData\\Local\\Temp\\ipykernel_29608\\1244633705.py:20: DtypeWarning: Columns (35) have mixed types. Specify dtype option on import or set low_memory=False.\n",
      "  farmacias = pd.read_csv(\"C:/Users/guguc/Documents/Dataton/farmacias.csv\", encoding='latin1')\n"
     ]
    },
    {
     "name": "stdout",
     "output_type": "stream",
     "text": [
      "El archivo 'Farmacias_filtradas_top10_distribuidoras.csv' ha sido generado con éxito.\n"
     ]
    }
   ],
   "source": [
    "import pandas as pd\n",
    "import numpy as np\n",
    "from math import radians, sin, cos, sqrt, atan2\n",
    "\n",
    "# Función para calcular la distancia usando la fórmula de Haversine entre dos matrices de coordenadas\n",
    "def haversine_vectorized(lat1, lon1, lat2, lon2):\n",
    "    R = 6371.0  # Radio de la Tierra en km\n",
    "    lat1, lon1, lat2, lon2 = map(np.radians, [lat1, lon1, lat2, lon2])\n",
    "    \n",
    "    dlat = lat2[:, np.newaxis] - lat1  # Diferencia de latitudes\n",
    "    dlon = lon2[:, np.newaxis] - lon1  # Diferencia de longitudes\n",
    "    \n",
    "    a = np.sin(dlat / 2.0)**2 + np.cos(lat1) * np.cos(lat2[:, np.newaxis]) * np.sin(dlon / 2.0)**2\n",
    "    c = 2 * np.arctan2(np.sqrt(a), np.sqrt(1 - a))\n",
    "    distance = R * c\n",
    "    return distance\n",
    "\n",
    "# Cargar los archivos CSV con la codificación 'latin1'\n",
    "distribuidoras = pd.read_csv(\"C:/Users/guguc/Documents/Dataton/Distribuidoras.csv\", encoding='latin1')\n",
    "farmacias = pd.read_csv(\"C:/Users/guguc/Documents/Dataton/farmacias.csv\", encoding='latin1')\n",
    "\n",
    "# Extraer latitudes y longitudes de las farmacias y distribuidoras\n",
    "lat_farmacias = farmacias['latitud'].values\n",
    "lon_farmacias = farmacias['longitud'].values\n",
    "lat_distribuidoras = distribuidoras['latitud'].values\n",
    "lon_distribuidoras = distribuidoras['longitud'].values\n",
    "\n",
    "# Calcular las distancias entre cada farmacia y todas las distribuidoras\n",
    "distancias = haversine_vectorized(lat_farmacias, lon_farmacias, lat_distribuidoras, lon_distribuidoras)\n",
    "\n",
    "# Contar cuántas farmacias hay cerca de cada distribuidora (<= 25 km)\n",
    "farmacias_cercanas_por_distribuidora = np.sum(distancias <= 25, axis=1)\n",
    "\n",
    "# Identificar las 10 distribuidoras con la mínima cantidad de farmacias cercanas\n",
    "top_10_distribuidoras_idx = np.argsort(farmacias_cercanas_por_distribuidora)[:10]\n",
    "\n",
    "# Filtrar las farmacias que están a menos de 25 km de estas 10 distribuidoras\n",
    "farmacias_filtradas = []\n",
    "for idx in top_10_distribuidoras_idx:\n",
    "    distancias_cercanas = distancias[idx] <= 25\n",
    "    farmacias_filtradas.append(farmacias[distancias_cercanas])\n",
    "\n",
    "# Concatenar las farmacias filtradas en un solo DataFrame\n",
    "farmacias_filtradas_df = pd.concat(farmacias_filtradas)\n",
    "\n",
    "# Guardar el resultado en un archivo CSV\n",
    "farmacias_filtradas_df.to_csv('Farmacias_filtradas_top10_distribuidoras.csv', index=False, encoding='utf-8')\n",
    "\n",
    "print(\"El archivo 'Farmacias_filtradas_top10_distribuidoras.csv' ha sido generado con éxito.\")\n"
   ]
  },
  {
   "cell_type": "code",
   "execution_count": 7,
   "id": "28026d6b",
   "metadata": {},
   "outputs": [
    {
     "name": "stderr",
     "output_type": "stream",
     "text": [
      "C:\\Users\\guguc\\AppData\\Local\\Temp\\ipykernel_25940\\903557524.py:6: DtypeWarning: Columns (35) have mixed types. Specify dtype option on import or set low_memory=False.\n",
      "  farmacias = pd.read_csv(\"C:/Users/guguc/Documents/Dataton/farmacias.csv\", encoding='latin1')\n"
     ]
    },
    {
     "name": "stdout",
     "output_type": "stream",
     "text": [
      "Archivo guardado como C:/Users/guguc/Documents/Dataton/mejores_farmacias_completo.csv\n"
     ]
    }
   ],
   "source": [
    "import pandas as pd\n",
    "from scipy.spatial import KDTree\n",
    "import numpy as np\n",
    "\n",
    "# Cargar el archivo CSV de farmacias\n",
    "farmacias = pd.read_csv(\"C:/Users/guguc/Documents/Dataton/farmacias.csv\", encoding='latin1')\n",
    "\n",
    "# Convertimos las latitudes y longitudes a radianes para mejorar la precisión\n",
    "farmacias['latitud_rad'] = np.radians(farmacias['latitud'])\n",
    "farmacias['longitud_rad'] = np.radians(farmacias['longitud'])\n",
    "\n",
    "# Crear un KDTree para las farmacias (más eficiente que iterar manualmente)\n",
    "tree = KDTree(farmacias[['latitud_rad', 'longitud_rad']])\n",
    "\n",
    "# Parámetro: radio en km para considerar una farmacia como cercana\n",
    "radio_km = 5\n",
    "radio_radians = radio_km / 6371.0  # Convertimos km a radianes (radio de la Tierra = 6371 km)\n",
    "\n",
    "# Para cada farmacia, encontramos cuántas están dentro del radio definido\n",
    "farmacias['farmacias_cercanas'] = [\n",
    "    len(tree.query_ball_point([row['latitud_rad'], row['longitud_rad']], r=radio_radians)) - 1\n",
    "    for _, row in farmacias.iterrows()\n",
    "]\n",
    "\n",
    "# Ordenamos las farmacias según el número de farmacias cercanas (menos farmacias cercanas es mejor)\n",
    "farmacias_ordenadas = farmacias.sort_values(by='farmacias_cercanas')\n",
    "\n",
    "# Guardar las farmacias ordenadas con todas las columnas originales en un archivo CSV\n",
    "output_file = \"C:/Users/guguc/Documents/Dataton/mejores_farmacias_completo.csv\"\n",
    "farmacias_ordenadas.to_csv(output_file, index=False)\n",
    "\n",
    "print(f\"Archivo guardado como {output_file}\")\n"
   ]
  },
  {
   "cell_type": "code",
   "execution_count": 2,
   "id": "c17d38e7",
   "metadata": {},
   "outputs": [
    {
     "name": "stdout",
     "output_type": "stream",
     "text": [
      "Requirement already satisfied: pandas in c:\\users\\guguc\\anaconda3\\lib\\site-packages (2.1.4)\n",
      "Collecting geopy\n",
      "  Downloading geopy-2.4.1-py3-none-any.whl.metadata (6.8 kB)\n",
      "Requirement already satisfied: numpy<2,>=1.23.2 in c:\\users\\guguc\\anaconda3\\lib\\site-packages (from pandas) (1.26.4)\n",
      "Requirement already satisfied: python-dateutil>=2.8.2 in c:\\users\\guguc\\anaconda3\\lib\\site-packages (from pandas) (2.8.2)\n",
      "Requirement already satisfied: pytz>=2020.1 in c:\\users\\guguc\\anaconda3\\lib\\site-packages (from pandas) (2023.3.post1)\n",
      "Requirement already satisfied: tzdata>=2022.1 in c:\\users\\guguc\\anaconda3\\lib\\site-packages (from pandas) (2023.3)\n",
      "Collecting geographiclib<3,>=1.52 (from geopy)\n",
      "  Downloading geographiclib-2.0-py3-none-any.whl.metadata (1.4 kB)\n",
      "Requirement already satisfied: six>=1.5 in c:\\users\\guguc\\anaconda3\\lib\\site-packages (from python-dateutil>=2.8.2->pandas) (1.16.0)\n",
      "Downloading geopy-2.4.1-py3-none-any.whl (125 kB)\n",
      "   ---------------------------------------- 0.0/125.4 kB ? eta -:--:--\n",
      "   ---------------------------------------- 0.0/125.4 kB ? eta -:--:--\n",
      "   ---------------------------------------- 0.0/125.4 kB ? eta -:--:--\n",
      "   --------- ------------------------------ 30.7/125.4 kB ? eta -:--:--\n",
      "   --------- ------------------------------ 30.7/125.4 kB ? eta -:--:--\n",
      "   ---------------------------- ---------- 92.2/125.4 kB 751.6 kB/s eta 0:00:01\n",
      "   ---------------------------- ---------- 92.2/125.4 kB 751.6 kB/s eta 0:00:01\n",
      "   -------------------------------------- 125.4/125.4 kB 526.0 kB/s eta 0:00:00\n",
      "Downloading geographiclib-2.0-py3-none-any.whl (40 kB)\n",
      "   ---------------------------------------- 0.0/40.3 kB ? eta -:--:--\n",
      "   ---------------------------------------- 40.3/40.3 kB 940.1 kB/s eta 0:00:00\n",
      "Installing collected packages: geographiclib, geopy\n",
      "Successfully installed geographiclib-2.0 geopy-2.4.1\n",
      "Note: you may need to restart the kernel to use updated packages.\n"
     ]
    }
   ],
   "source": [
    "pip install pandas geopy\n"
   ]
  },
  {
   "cell_type": "markdown",
   "id": "7dc98234",
   "metadata": {},
   "source": [
    "Voronoi"
   ]
  },
  {
   "cell_type": "code",
   "execution_count": 1,
   "id": "ecf73e96",
   "metadata": {},
   "outputs": [
    {
     "name": "stdout",
     "output_type": "stream",
     "text": [
      "Requirement already satisfied: numpy in c:\\users\\guguc\\anaconda3\\lib\\site-packages (1.26.4)\n",
      "Requirement already satisfied: scipy in c:\\users\\guguc\\anaconda3\\lib\\site-packages (1.11.4)\n",
      "Requirement already satisfied: matplotlib in c:\\users\\guguc\\anaconda3\\lib\\site-packages (3.8.0)\n",
      "Collecting geopandas\n",
      "  Downloading geopandas-1.0.1-py3-none-any.whl.metadata (2.2 kB)\n",
      "Requirement already satisfied: pandas in c:\\users\\guguc\\anaconda3\\lib\\site-packages (2.1.4)\n",
      "Requirement already satisfied: contourpy>=1.0.1 in c:\\users\\guguc\\anaconda3\\lib\\site-packages (from matplotlib) (1.2.0)\n",
      "Requirement already satisfied: cycler>=0.10 in c:\\users\\guguc\\anaconda3\\lib\\site-packages (from matplotlib) (0.11.0)\n",
      "Requirement already satisfied: fonttools>=4.22.0 in c:\\users\\guguc\\anaconda3\\lib\\site-packages (from matplotlib) (4.25.0)\n",
      "Requirement already satisfied: kiwisolver>=1.0.1 in c:\\users\\guguc\\anaconda3\\lib\\site-packages (from matplotlib) (1.4.4)\n",
      "Requirement already satisfied: packaging>=20.0 in c:\\users\\guguc\\anaconda3\\lib\\site-packages (from matplotlib) (23.1)\n",
      "Requirement already satisfied: pillow>=6.2.0 in c:\\users\\guguc\\anaconda3\\lib\\site-packages (from matplotlib) (10.2.0)\n",
      "Requirement already satisfied: pyparsing>=2.3.1 in c:\\users\\guguc\\anaconda3\\lib\\site-packages (from matplotlib) (3.0.9)\n",
      "Requirement already satisfied: python-dateutil>=2.7 in c:\\users\\guguc\\anaconda3\\lib\\site-packages (from matplotlib) (2.8.2)\n",
      "Collecting pyogrio>=0.7.2 (from geopandas)\n",
      "  Downloading pyogrio-0.10.0-cp311-cp311-win_amd64.whl.metadata (5.6 kB)\n",
      "Collecting pyproj>=3.3.0 (from geopandas)\n",
      "  Downloading pyproj-3.6.1-cp311-cp311-win_amd64.whl.metadata (31 kB)\n",
      "Collecting shapely>=2.0.0 (from geopandas)\n",
      "  Downloading shapely-2.0.6-cp311-cp311-win_amd64.whl.metadata (7.2 kB)\n",
      "Requirement already satisfied: pytz>=2020.1 in c:\\users\\guguc\\anaconda3\\lib\\site-packages (from pandas) (2023.3.post1)\n",
      "Requirement already satisfied: tzdata>=2022.1 in c:\\users\\guguc\\anaconda3\\lib\\site-packages (from pandas) (2023.3)\n",
      "Requirement already satisfied: certifi in c:\\users\\guguc\\anaconda3\\lib\\site-packages (from pyogrio>=0.7.2->geopandas) (2024.7.4)\n",
      "Requirement already satisfied: six>=1.5 in c:\\users\\guguc\\anaconda3\\lib\\site-packages (from python-dateutil>=2.7->matplotlib) (1.16.0)\n",
      "Downloading geopandas-1.0.1-py3-none-any.whl (323 kB)\n",
      "   ---------------------------------------- 0.0/323.6 kB ? eta -:--:--\n",
      "   - -------------------------------------- 10.2/323.6 kB ? eta -:--:--\n",
      "   ---------------- ----------------------- 133.1/323.6 kB 1.6 MB/s eta 0:00:01\n",
      "   -------------------------------- ------- 266.2/323.6 kB 2.7 MB/s eta 0:00:01\n",
      "   ---------------------------------------- 323.6/323.6 kB 2.0 MB/s eta 0:00:00\n",
      "Downloading pyogrio-0.10.0-cp311-cp311-win_amd64.whl (16.2 MB)\n",
      "   ---------------------------------------- 0.0/16.2 MB ? eta -:--:--\n",
      "   - -------------------------------------- 0.6/16.2 MB 11.5 MB/s eta 0:00:02\n",
      "   -- ------------------------------------- 1.1/16.2 MB 11.3 MB/s eta 0:00:02\n",
      "   ---- ----------------------------------- 1.8/16.2 MB 13.1 MB/s eta 0:00:02\n",
      "   ------ --------------------------------- 2.6/16.2 MB 14.1 MB/s eta 0:00:01\n",
      "   -------- ------------------------------- 3.6/16.2 MB 15.2 MB/s eta 0:00:01\n",
      "   ----------- ---------------------------- 4.5/16.2 MB 15.9 MB/s eta 0:00:01\n",
      "   ------------ --------------------------- 5.2/16.2 MB 15.9 MB/s eta 0:00:01\n",
      "   --------------- ------------------------ 6.1/16.2 MB 16.3 MB/s eta 0:00:01\n",
      "   ----------------- ---------------------- 7.2/16.2 MB 17.0 MB/s eta 0:00:01\n",
      "   ------------------- -------------------- 7.8/16.2 MB 16.7 MB/s eta 0:00:01\n",
      "   ---------------------- ----------------- 9.0/16.2 MB 17.5 MB/s eta 0:00:01\n",
      "   ------------------------ --------------- 10.0/16.2 MB 18.3 MB/s eta 0:00:01\n",
      "   ------------------------- -------------- 10.4/16.2 MB 16.8 MB/s eta 0:00:01\n",
      "   ---------------------------- ----------- 11.5/16.2 MB 18.7 MB/s eta 0:00:01\n",
      "   ------------------------------- -------- 12.9/16.2 MB 19.8 MB/s eta 0:00:01\n",
      "   ----------------------------------- ---- 14.4/16.2 MB 21.1 MB/s eta 0:00:01\n",
      "   ---------------------------------------  15.9/16.2 MB 22.6 MB/s eta 0:00:01\n",
      "   ---------------------------------------  16.2/16.2 MB 23.4 MB/s eta 0:00:01\n",
      "   ---------------------------------------- 16.2/16.2 MB 21.1 MB/s eta 0:00:00\n",
      "Downloading pyproj-3.6.1-cp311-cp311-win_amd64.whl (6.1 MB)\n",
      "   ---------------------------------------- 0.0/6.1 MB ? eta -:--:--\n",
      "   ------- -------------------------------- 1.1/6.1 MB 34.2 MB/s eta 0:00:01\n",
      "   -------------- ------------------------- 2.3/6.1 MB 24.0 MB/s eta 0:00:01\n",
      "   ---------------------- ----------------- 3.4/6.1 MB 24.2 MB/s eta 0:00:01\n",
      "   ------------------------------ --------- 4.6/6.1 MB 24.6 MB/s eta 0:00:01\n",
      "   ---------------------------------------  6.1/6.1 MB 25.8 MB/s eta 0:00:01\n",
      "   ---------------------------------------- 6.1/6.1 MB 24.3 MB/s eta 0:00:00\n",
      "Downloading shapely-2.0.6-cp311-cp311-win_amd64.whl (1.4 MB)\n",
      "   ---------------------------------------- 0.0/1.4 MB ? eta -:--:--\n",
      "   ---------------------------------- ----- 1.3/1.4 MB 26.6 MB/s eta 0:00:01\n",
      "   ---------------------------------------- 1.4/1.4 MB 22.7 MB/s eta 0:00:00\n",
      "Installing collected packages: shapely, pyproj, pyogrio, geopandas\n",
      "Successfully installed geopandas-1.0.1 pyogrio-0.10.0 pyproj-3.6.1 shapely-2.0.6\n",
      "Note: you may need to restart the kernel to use updated packages.\n"
     ]
    }
   ],
   "source": [
    "pip install numpy scipy matplotlib geopandas pandas\n"
   ]
  },
  {
   "cell_type": "code",
   "execution_count": null,
   "id": "fdb39025",
   "metadata": {},
   "outputs": [
    {
     "name": "stderr",
     "output_type": "stream",
     "text": [
      "C:\\Users\\guguc\\AppData\\Local\\Temp\\ipykernel_3332\\186213286.py:6: DtypeWarning: Columns (35) have mixed types. Specify dtype option on import or set low_memory=False.\n",
      "  farmacias_df = pd.read_csv(\"C:/Users/guguc/Documents/Dataton/farmacias.csv\", encoding='latin1')\n"
     ]
    }
   ],
   "source": [
    "import pandas as pd\n",
    "import numpy as np\n",
    "from geopy.distance import geodesic\n",
    "\n",
    "# Cargar el archivo CSV con las farmacias\n",
    "farmacias_df = pd.read_csv(\"C:/Users/guguc/Documents/Dataton/farmacias.csv\", encoding='latin1')\n",
    "\n",
    "# Función para calcular la distancia geodésica entre dos puntos\n",
    "def calcular_distancia(lat1, lon1, lat2, lon2):\n",
    "    return geodesic((lat1, lon1), (lat2, lon2)).kilometers\n",
    "\n",
    "# Crear una matriz triangular inferior de distancias para evitar cálculos duplicados\n",
    "n = len(farmacias_df)\n",
    "distancias = np.zeros((n, n))\n",
    "\n",
    "for i in range(n):\n",
    "    for j in range(i + 1, n):\n",
    "        distancia = calcular_distancia(farmacias_df.loc[i, 'latitud'], farmacias_df.loc[i, 'longitud'],\n",
    "                                       farmacias_df.loc[j, 'latitud'], farmacias_df.loc[j, 'longitud'])\n",
    "        distancias[i, j] = distancia\n",
    "        distancias[j, i] = distancia  # La matriz es simétrica\n",
    "\n",
    "# Convertir la matriz de distancias en un DataFrame\n",
    "distancias_df = pd.DataFrame(distancias, columns=farmacias_df['Farmacia'], index=farmacias_df['Farmacia'])\n",
    "\n",
    "# Calcular la \"competencia\" como la suma de las distancias (a mayor suma, mejor ubicación)\n",
    "farmacias_df['Suma_Distancias'] = distancias_df.sum(axis=1)\n",
    "\n",
    "# Ordenar las farmacias por mejor ubicación (mayor suma de distancias)\n",
    "farmacias_df_ordenado = farmacias_df.sort_values(by='Suma_Distancias', ascending=False)\n",
    "\n",
    "# Mostrar los resultados\n",
    "print(farmacias_df_ordenado)\n",
    "\n",
    "# Guardar los resultados ordenados en un nuevo archivo CSV\n",
    "farmacias_df_ordenado.to_csv('farmacias_ordenadas_por_ubicacion.csv', index=False)\n",
    "\n"
   ]
  },
  {
   "cell_type": "code",
   "execution_count": null,
   "id": "450b6d61",
   "metadata": {},
   "outputs": [],
   "source": []
  }
 ],
 "metadata": {
  "kernelspec": {
   "display_name": "Python 3 (ipykernel)",
   "language": "python",
   "name": "python3"
  },
  "language_info": {
   "codemirror_mode": {
    "name": "ipython",
    "version": 3
   },
   "file_extension": ".py",
   "mimetype": "text/x-python",
   "name": "python",
   "nbconvert_exporter": "python",
   "pygments_lexer": "ipython3",
   "version": "3.11.7"
  }
 },
 "nbformat": 4,
 "nbformat_minor": 5
}
